{
  "nbformat": 4,
  "nbformat_minor": 0,
  "metadata": {
    "colab": {
      "provenance": []
    },
    "kernelspec": {
      "name": "python3",
      "display_name": "Python 3"
    },
    "language_info": {
      "name": "python"
    }
  },
  "cells": [
    {
      "cell_type": "code",
      "execution_count": 1,
      "metadata": {
        "id": "8hwKQEgrGm-u"
      },
      "outputs": [],
      "source": [
        "from keras.layers import Input, Dense\n",
        "from keras.models import Model\n",
        ""
      ]
    },
    {
      "cell_type": "code",
      "source": [
        "# this is the size of our encoded representations\n",
        "encoding_dim = 32  # 32 floats -> compression of factor 24.5, assuming the input is 784 floats"
      ],
      "metadata": {
        "id": "-xhkza11G0Yz"
      },
      "execution_count": 2,
      "outputs": []
    },
    {
      "cell_type": "code",
      "source": [
        "# this is our input placeholder\n",
        "input_img = Input(shape=(784,))\n",
        "# \"encoded\" is the encoded representation of the input\n",
        "encoded = Dense(encoding_dim, activation='relu')(input_img) #Undercomplete Encoding\n",
        "# \"decoded\" is the lossy reconstruction of the input\n",
        "decoded = Dense(784, activation='sigmoid')(encoded)\n",
        "\n"
      ],
      "metadata": {
        "id": "s2nZF7UYG5mS"
      },
      "execution_count": 3,
      "outputs": []
    },
    {
      "cell_type": "code",
      "source": [
        "# this model maps an input to its reconstruction\n",
        "autoencoder = Model(input_img, decoded)\n",
        "# this model maps an input to its encoded representation\n",
        "autoencoder.compile(optimizer='adam', loss='binary_crossentropy',metrics=['accuracy'])"
      ],
      "metadata": {
        "id": "rQ7Ap2BnG-Z6"
      },
      "execution_count": 4,
      "outputs": []
    },
    {
      "cell_type": "code",
      "source": [
        "from keras.datasets import mnist, fashion_mnist\n",
        "import numpy as np\n",
        "\n",
        "(x_train, y_train), (x_test, y_test) = fashion_mnist.load_data()\n",
        "x_train = x_train[:6000]\n",
        "x_test = x_test[:1000]\n",
        "\n",
        "#Converting into float & Scaling Data\n",
        "x_train = x_train.astype('float32') / 255.\n",
        "x_test = x_test.astype('float32') / 255.\n",
        "\n",
        "\n",
        "#Setting Up data from 28*28 to 784 for the width & height of image\n",
        "x_train = x_train.reshape((len(x_train), np.prod(x_train.shape[1:])))\n",
        "x_test = x_test.reshape((len(x_test), np.prod(x_test.shape[1:])))"
      ],
      "metadata": {
        "colab": {
          "base_uri": "https://localhost:8080/"
        },
        "id": "AYkgsgSpHJYR",
        "outputId": "6c5b9acb-ef98-4fde-edfc-487d783d1dbf"
      },
      "execution_count": 5,
      "outputs": [
        {
          "output_type": "stream",
          "name": "stdout",
          "text": [
            "Downloading data from https://storage.googleapis.com/tensorflow/tf-keras-datasets/train-labels-idx1-ubyte.gz\n",
            "29515/29515 [==============================] - 0s 0us/step\n",
            "Downloading data from https://storage.googleapis.com/tensorflow/tf-keras-datasets/train-images-idx3-ubyte.gz\n",
            "26421880/26421880 [==============================] - 0s 0us/step\n",
            "Downloading data from https://storage.googleapis.com/tensorflow/tf-keras-datasets/t10k-labels-idx1-ubyte.gz\n",
            "5148/5148 [==============================] - 0s 0us/step\n",
            "Downloading data from https://storage.googleapis.com/tensorflow/tf-keras-datasets/t10k-images-idx3-ubyte.gz\n",
            "4422102/4422102 [==============================] - 0s 0us/step\n"
          ]
        }
      ]
    },
    {
      "cell_type": "code",
      "source": [
        "#Fitting/training the model\n",
        "autoencoder.fit(x_train, x_train,\n",
        "                epochs=5,\n",
        "                batch_size=128,\n",
        "                shuffle=True,\n",
        "                validation_data=(x_test, x_test))\n",
        "\n"
      ],
      "metadata": {
        "colab": {
          "base_uri": "https://localhost:8080/"
        },
        "id": "ykennp9_HORj",
        "outputId": "ea2983e6-ef52-4797-eb5a-edaff60cb92d"
      },
      "execution_count": 6,
      "outputs": [
        {
          "output_type": "stream",
          "name": "stdout",
          "text": [
            "Epoch 1/5\n",
            "47/47 [==============================] - 1s 12ms/step - loss: 0.5560 - accuracy: 0.0022 - val_loss: 0.4588 - val_accuracy: 0.0030\n",
            "Epoch 2/5\n",
            "47/47 [==============================] - 0s 8ms/step - loss: 0.4206 - accuracy: 0.0083 - val_loss: 0.3978 - val_accuracy: 0.0160\n",
            "Epoch 3/5\n",
            "47/47 [==============================] - 0s 8ms/step - loss: 0.3825 - accuracy: 0.0123 - val_loss: 0.3737 - val_accuracy: 0.0130\n",
            "Epoch 4/5\n",
            "47/47 [==============================] - 0s 8ms/step - loss: 0.3622 - accuracy: 0.0088 - val_loss: 0.3576 - val_accuracy: 0.0100\n",
            "Epoch 5/5\n",
            "47/47 [==============================] - 0s 8ms/step - loss: 0.3486 - accuracy: 0.0083 - val_loss: 0.3469 - val_accuracy: 0.0120\n"
          ]
        },
        {
          "output_type": "execute_result",
          "data": {
            "text/plain": [
              "<keras.src.callbacks.History at 0x7d4d3fa23b50>"
            ]
          },
          "metadata": {},
          "execution_count": 6
        }
      ]
    },
    {
      "cell_type": "code",
      "source": [
        "#predicting on the test data\n",
        "prediction = autoencoder.predict(x_test)\n",
        "\n"
      ],
      "metadata": {
        "colab": {
          "base_uri": "https://localhost:8080/"
        },
        "id": "VKn5AmjGHU_Y",
        "outputId": "b1ee14f3-da2d-4d73-dcdf-e187c0006f17"
      },
      "execution_count": 7,
      "outputs": [
        {
          "output_type": "stream",
          "name": "stdout",
          "text": [
            "32/32 [==============================] - 0s 1ms/step\n"
          ]
        }
      ]
    },
    {
      "cell_type": "code",
      "source": [
        "#Input Image\n",
        "from matplotlib import pyplot as plt\n",
        "plt.imshow(x_test[50].reshape(28,28))\n",
        "plt.show()"
      ],
      "metadata": {
        "colab": {
          "base_uri": "https://localhost:8080/",
          "height": 430
        },
        "id": "juaaM_N0HbWR",
        "outputId": "6f29480d-c4bb-4f70-86bf-1d2a5ab11e3b"
      },
      "execution_count": 8,
      "outputs": [
        {
          "output_type": "display_data",
          "data": {
            "text/plain": [
              "<Figure size 640x480 with 1 Axes>"
            ],
            "image/png": "[encoded data removed]"
          },
          "metadata": {}
        }
      ]
    },
    {
      "cell_type": "code",
      "source": [
        "#reconstructed Image\n",
        "from matplotlib import pyplot as plt\n",
        "plt.imshow(prediction[50].reshape(28,28))\n",
        "plt.show()"
      ],
      "metadata": {
        "colab": {
          "base_uri": "https://localhost:8080/",
          "height": 430
        },
        "id": "bDyND0DfHiWa",
        "outputId": "bcd45820-8fad-4954-a7cc-68225a8dba25"
      },
      "execution_count": 9,
      "outputs": [
        {
          "output_type": "display_data",
          "data": {
            "text/plain": [
              "<Figure size 640x480 with 1 Axes>"
            ],
            "image/png": "[encoded data removed]"
          },
          "metadata": {}
        }
      ]
    },
    {
      "cell_type": "markdown",
      "source": [
        "1. **Add one more hidden layer to autoencoder**"
      ],
      "metadata": {
        "id": "Pix3X7HMHtc0"
      }
    },
    {
      "cell_type": "code",
      "source": [
        "\n",
        "# this is our input placeholder\n",
        "input_img = Input(shape=(784,))\n",
        "#Adding hidden layer to encoding\n",
        "hiddenLayer_en=Dense(512,activation='relu')(input_img)\n",
        "# \"encoded\" is the encoded representation of the input\n",
        "encoded = Dense(encoding_dim, activation='relu')(hiddenLayer_en) #Undercomplete Encoding\n",
        "#Adding hidden layer to decoding\n",
        "hiddenLayer_de=Dense(512,activation='relu')(encoded)\n",
        "# \"decoded\" is the lossy reconstruction of the input\n",
        "decoded = Dense(784, activation='sigmoid')(hiddenLayer_de)\n",
        "\n",
        "\n",
        "# this model maps an input to its reconstruction\n",
        "autoencoder = Model(input_img, decoded)\n",
        "# this model maps an input to its encoded representation\n",
        "autoencoder.compile(optimizer='adam', loss='binary_crossentropy',metrics=['accuracy'])\n",
        "\n",
        "\n",
        "from keras.datasets import mnist, fashion_mnist\n",
        "import numpy as np\n",
        "\n",
        "(x_train, y_train), (x_test, y_test) = fashion_mnist.load_data()\n",
        "\n",
        "#Converting into float & Scaling Data\n",
        "x_train = x_train.astype('float32') / 255.\n",
        "x_test = x_test.astype('float32') / 255.\n",
        "\n",
        "#Setting Up data from 28*28 to 784 for the width & height of image\n",
        "x_train = x_train.reshape((len(x_train), np.prod(x_train.shape[1:])))\n",
        "x_test = x_test.reshape((len(x_test), np.prod(x_test.shape[1:])))\n",
        "\n",
        "#Fitting/training the model\n",
        "autoencoder.fit(x_train, x_train,\n",
        "                epochs=5,\n",
        "                batch_size=128,\n",
        "                shuffle=True,\n",
        "                validation_data=(x_test, x_test))\n",
        ""
      ],
      "metadata": {
        "colab": {
          "base_uri": "https://localhost:8080/"
        },
        "id": "riCCq__XHw6a",
        "outputId": "edfb9f3a-556b-4315-b648-90efe474ba02"
      },
      "execution_count": 10,
      "outputs": [
        {
          "output_type": "stream",
          "name": "stdout",
          "text": [
            "Epoch 1/5\n",
            "469/469 [==============================] - 14s 27ms/step - loss: 0.3238 - accuracy: 0.0132 - val_loss: 0.2937 - val_accuracy: 0.0207\n",
            "Epoch 2/5\n",
            "469/469 [==============================] - 11s 24ms/step - loss: 0.2871 - accuracy: 0.0218 - val_loss: 0.2855 - val_accuracy: 0.0227\n",
            "Epoch 3/5\n",
            "469/469 [==============================] - 11s 23ms/step - loss: 0.2816 - accuracy: 0.0235 - val_loss: 0.2818 - val_accuracy: 0.0254\n",
            "Epoch 4/5\n",
            "469/469 [==============================] - 12s 26ms/step - loss: 0.2785 - accuracy: 0.0268 - val_loss: 0.2793 - val_accuracy: 0.0293\n",
            "Epoch 5/5\n",
            "469/469 [==============================] - 12s 25ms/step - loss: 0.2764 - accuracy: 0.0304 - val_loss: 0.2776 - val_accuracy: 0.0308\n"
          ]
        },
        {
          "output_type": "execute_result",
          "data": {
            "text/plain": [
              "<keras.src.callbacks.History at 0x7d4d3edab280>"
            ]
          },
          "metadata": {},
          "execution_count": 10
        }
      ]
    },
    {
      "cell_type": "markdown",
      "source": [
        "2. **Do the prediction on the test data and then visualize the reconstructed version of that test data. Also, visualize the same test data before reconstruction using Matplotlib**"
      ],
      "metadata": {
        "id": "Ut_qj9PjITeB"
      }
    },
    {
      "cell_type": "code",
      "source": [
        "#predicting on the test data\n",
        "prediction = autoencoder.predict(x_test)"
      ],
      "metadata": {
        "colab": {
          "base_uri": "https://localhost:8080/"
        },
        "id": "48SubaGsIWAN",
        "outputId": "fa5a8951-1387-485d-fb5e-1c1a9f33b1c1"
      },
      "execution_count": 11,
      "outputs": [
        {
          "output_type": "stream",
          "name": "stdout",
          "text": [
            "313/313 [==============================] - 1s 4ms/step\n"
          ]
        }
      ]
    },
    {
      "cell_type": "code",
      "source": [
        "\n",
        "#Input Image\n",
        "from matplotlib import pyplot as plt\n",
        "plt.imshow(x_test[50].reshape(28,28))\n",
        "plt.show()"
      ],
      "metadata": {
        "colab": {
          "base_uri": "https://localhost:8080/",
          "height": 430
        },
        "id": "9flGtvfNId-4",
        "outputId": "d8f68dda-3707-4084-e440-ac5c8c695360"
      },
      "execution_count": 13,
      "outputs": [
        {
          "output_type": "display_data",
          "data": {
            "text/plain": [
              "<Figure size 640x480 with 1 Axes>"
            ],
            "image/png": "[encoded data removed]"
          },
          "metadata": {}
        }
      ]
    },
    {
      "cell_type": "code",
      "source": [
        "#reconstructed Image\n",
        "from matplotlib import pyplot as plt\n",
        "plt.imshow(prediction[50].reshape(28,28))\n",
        "plt.show()"
      ],
      "metadata": {
        "colab": {
          "base_uri": "https://localhost:8080/",
          "height": 430
        },
        "id": "wJUiE9_YIoAG",
        "outputId": "00d29f2f-ca6f-4dd8-c7dd-cd609ac53460"
      },
      "execution_count": 14,
      "outputs": [
        {
          "output_type": "display_data",
          "data": {
            "text/plain": [
              "<Figure size 640x480 with 1 Axes>"
            ],
            "image/png": "[encoded data removed]"
          },
          "metadata": {}
        }
      ]
    }
  ]
}